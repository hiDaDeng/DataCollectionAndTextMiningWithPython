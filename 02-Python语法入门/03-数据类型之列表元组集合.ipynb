{
 "cells": [
  {
   "cell_type": "markdown",
   "metadata": {},
   "source": [
    "# 列表list\n",
    "## 定义\n",
    "\n",
    "list是一种有序的集合,内部可以由任何数据类型的组成的\n",
    "\n",
    "现在有5位员工的汇总信息，\n",
    "\n",
    "|id|姓名|年龄|性别|爱好|\n",
    "|:---|:---|:---|:---|:---|\n",
    "|1|David|25|Male|Basketball, Pingpang, Hiking|\n",
    "|2|Mary|23|Female|Reading, Movies|\n",
    "|3|Henry|23|Male|Diving, Hiking|\n",
    "|4|Swift|21|Male|Football, Music|\n",
    "|5|Lenard|26|Male|Stay at Home|"
   ]
  },
  {
   "cell_type": "code",
   "execution_count": 1,
   "metadata": {},
   "outputs": [
    {
     "name": "stdout",
     "output_type": "stream",
     "text": [
      "<class 'list'>\n",
      "<class 'list'>\n",
      "<class 'list'>\n",
      "['David', 'Mary', 'Henry', 'Swift', 'Lenard']\n",
      "[25, 23, 23, 21, 26]\n",
      "[['Basketball', 'Pingpang', 'Hiking'], ['Reading', 'Movies'], ['Diving', 'Hiking'], ['Football', 'Music'], ['Stay at Home']]\n"
     ]
    }
   ],
   "source": [
    "names = ['David', 'Mary', 'Henry', 'Swift', 'Lenard']\n",
    "\n",
    "ages = [25, 23, 23, 21, 26]\n",
    "\n",
    "hobbies = [['Basketball', 'Pingpang', 'Hiking'],\n",
    "          ['Reading', 'Movies'],\n",
    "          ['Diving', 'Hiking'],\n",
    "          ['Football', 'Music'],\n",
    "          ['Stay at Home']]\n",
    "\n",
    "print(type(names))\n",
    "print(type(ages))\n",
    "print(type(hobbies))\n",
    "\n",
    "print(names)\n",
    "print(ages)\n",
    "print(hobbies)"
   ]
  },
  {
   "cell_type": "markdown",
   "metadata": {},
   "source": [
    "## 拼接"
   ]
  },
  {
   "cell_type": "code",
   "execution_count": 2,
   "metadata": {},
   "outputs": [
    {
     "name": "stdout",
     "output_type": "stream",
     "text": [
      "['Michael', 'Bob', 'David', 'Lee']\n",
      "['David', 'Lee', 'Michael', 'Bob']\n"
     ]
    }
   ],
   "source": [
    "a1 = ['Michael', 'Bob']\n",
    "a2 = ['David', 'Lee']\n",
    "\n",
    "print(a1 + a2)\n",
    "print(a2 + a1)"
   ]
  },
  {
   "cell_type": "markdown",
   "metadata": {},
   "source": [
    "## 拆包\n",
    "等号两边长度相同"
   ]
  },
  {
   "cell_type": "code",
   "execution_count": 3,
   "metadata": {},
   "outputs": [
    {
     "name": "stdout",
     "output_type": "stream",
     "text": [
      "David\n",
      "25\n"
     ]
    }
   ],
   "source": [
    "name, age = ['David', 25]\n",
    "print(name)\n",
    "print(age)"
   ]
  },
  {
   "cell_type": "markdown",
   "metadata": {},
   "source": [
    "## 切片\n",
    "列表的切片与字符串类似\n",
    "\n",
    "|id|姓名|年龄|性别|爱好|正索引|倒索引|\n",
    "|:---|:---|:---|:---|:---|:---|:---|\n",
    "|1|David|25|Male|Basketball, Pingpang, Hiking|0|-5|\n",
    "|2|Mary|23|Female|Reading, Movies|1|-4|\n",
    "|3|Henry|23|Male|Diving, Hiking|2|-3|\n",
    "|4|Swift|21|Male|Football, Music|3|-2|\n",
    "|5|Lenard|26|Male|Stay at Home|4|-1|"
   ]
  },
  {
   "cell_type": "code",
   "execution_count": 4,
   "metadata": {},
   "outputs": [
    {
     "data": {
      "text/plain": [
       "['David', 'Mary', 'Henry', 'Swift', 'Lenard']"
      ]
     },
     "execution_count": 4,
     "metadata": {},
     "output_type": "execute_result"
    }
   ],
   "source": [
    "names = ['David', 'Mary', 'Henry', 'Swift', 'Lenard']\n",
    "names"
   ]
  },
  {
   "cell_type": "code",
   "execution_count": 5,
   "metadata": {},
   "outputs": [
    {
     "name": "stdout",
     "output_type": "stream",
     "text": [
      "Henry\n",
      "Henry\n"
     ]
    }
   ],
   "source": [
    "print(names[2])\n",
    "print(names[-3])"
   ]
  },
  {
   "cell_type": "code",
   "execution_count": 6,
   "metadata": {},
   "outputs": [
    {
     "name": "stdout",
     "output_type": "stream",
     "text": [
      "['David', 'Mary', 'Henry']\n",
      "['David', 'Mary', 'Henry']\n"
     ]
    }
   ],
   "source": [
    "print(names[0:3])\n",
    "print(names[-5:-2])"
   ]
  },
  {
   "cell_type": "code",
   "execution_count": 7,
   "metadata": {},
   "outputs": [
    {
     "name": "stdout",
     "output_type": "stream",
     "text": [
      "['Henry', 'Swift', 'Lenard']\n",
      "['Henry', 'Swift', 'Lenard']\n"
     ]
    }
   ],
   "source": [
    "print(names[2:])\n",
    "print(names[-3:])"
   ]
  },
  {
   "cell_type": "code",
   "execution_count": 8,
   "metadata": {},
   "outputs": [
    {
     "name": "stdout",
     "output_type": "stream",
     "text": [
      "['David', 'Mary']\n",
      "['David', 'Mary']\n"
     ]
    }
   ],
   "source": [
    "print(names[:2])\n",
    "print(names[:-3])"
   ]
  },
  {
   "cell_type": "markdown",
   "metadata": {},
   "source": []
  },
  {
   "cell_type": "markdown",
   "metadata": {},
   "source": [
    "## 列表常用方法\n",
    "|常用方法|功能|\n",
    "|:---|:---|\n",
    "|list.append(a) |向list中添加元素a|\n",
    "|list.extend(lst)|向list中添加列表lst|\n",
    "|list.count(a) |统计list中a的个数|"
   ]
  },
  {
   "cell_type": "code",
   "execution_count": 9,
   "metadata": {},
   "outputs": [
    {
     "name": "stdout",
     "output_type": "stream",
     "text": [
      "['David', 'Mary', 'Henry', 'Swift', 'Lenard']\n",
      "['David', 'Mary', 'Henry', 'Swift', 'Lenard', 'Mary']\n"
     ]
    }
   ],
   "source": [
    "names = ['David', 'Mary', 'Henry', 'Swift', 'Lenard']\n",
    "\n",
    "print(names)\n",
    "names.append('Mary')\n",
    "print(names)"
   ]
  },
  {
   "cell_type": "code",
   "execution_count": 10,
   "metadata": {},
   "outputs": [
    {
     "name": "stdout",
     "output_type": "stream",
     "text": [
      "['David', 'Mary', 'Henry', 'Swift', 'Lenard']\n",
      "['David', 'Mary', 'Henry', 'Swift', 'Lenard', 'Mary']\n"
     ]
    }
   ],
   "source": [
    "names = ['David', 'Mary', 'Henry', 'Swift', 'Lenard']\n",
    "\n",
    "print(names)\n",
    "\n",
    "names.extend(['Mary'])\n",
    "\n",
    "print(names)"
   ]
  },
  {
   "cell_type": "code",
   "execution_count": null,
   "metadata": {},
   "outputs": [],
   "source": []
  },
  {
   "cell_type": "code",
   "execution_count": 12,
   "metadata": {},
   "outputs": [
    {
     "name": "stdout",
     "output_type": "stream",
     "text": [
      "2\n"
     ]
    }
   ],
   "source": [
    "ages = [25, 23, 23, 21, 26]\n",
    "print(ages.count(23))"
   ]
  },
  {
   "cell_type": "code",
   "execution_count": 15,
   "metadata": {},
   "outputs": [
    {
     "name": "stdout",
     "output_type": "stream",
     "text": [
      "David\n",
      "David\n"
     ]
    }
   ],
   "source": [
    "one = ['David']\n",
    "print(one[-1])\n",
    "print(one[0])"
   ]
  },
  {
   "cell_type": "markdown",
   "metadata": {},
   "source": [
    "# 元组tuple\n",
    "形似列表，也有\n",
    "- 元组拼接\n",
    "- 切片\n",
    "- 拆包"
   ]
  },
  {
   "cell_type": "code",
   "execution_count": 16,
   "metadata": {},
   "outputs": [
    {
     "name": "stdout",
     "output_type": "stream",
     "text": [
      "<class 'list'>\n",
      "<class 'tuple'>\n",
      "['David', 'Mary', 'Henry', 'Swift', 'Lenard']\n",
      "('David', 'Mary', 'Henry', 'Swift', 'Lenard')\n"
     ]
    }
   ],
   "source": [
    "name_list = ['David', 'Mary', 'Henry', 'Swift', 'Lenard']\n",
    "name_tuple = ('David', 'Mary', 'Henry', 'Swift', 'Lenard')\n",
    "\n",
    "print(type(name_list))\n",
    "print(type(name_tuple))\n",
    "\n",
    "print(name_list)\n",
    "print(name_tuple)"
   ]
  },
  {
   "cell_type": "code",
   "execution_count": 17,
   "metadata": {},
   "outputs": [
    {
     "name": "stdout",
     "output_type": "stream",
     "text": [
      "False\n"
     ]
    }
   ],
   "source": [
    "print(name_list==name_tuple)"
   ]
  },
  {
   "cell_type": "markdown",
   "metadata": {},
   "source": [
    "## 集合"
   ]
  },
  {
   "cell_type": "code",
   "execution_count": 18,
   "metadata": {},
   "outputs": [
    {
     "name": "stdout",
     "output_type": "stream",
     "text": [
      "{'Swift', 'Mary', 'David'}\n"
     ]
    }
   ],
   "source": [
    "names2 = ['David', 'Mary', 'David', 'Swift', 'David']\n",
    "print(set(names2))"
   ]
  },
  {
   "cell_type": "markdown",
   "metadata": {},
   "source": [
    "### 集合的方法\n",
    "- setdata.add(ele)  向setdata中加入ele"
   ]
  },
  {
   "cell_type": "code",
   "execution_count": 19,
   "metadata": {
    "scrolled": true
   },
   "outputs": [
    {
     "name": "stdout",
     "output_type": "stream",
     "text": [
      "{'Swift', 'Mary', 'David'}\n",
      "{'William', 'Swift', 'Mary', 'David'}\n"
     ]
    }
   ],
   "source": [
    "name_set = set(names2)\n",
    "\n",
    "print(name_set)\n",
    "\n",
    "name_set.add('William')\n",
    "\n",
    "print(name_set)"
   ]
  },
  {
   "cell_type": "code",
   "execution_count": 20,
   "metadata": {
    "collapsed": true
   },
   "outputs": [
    {
     "ename": "TypeError",
     "evalue": "'set' object is not subscriptable",
     "output_type": "error",
     "traceback": [
      "\u001b[1;31m---------------------------------------------------------------------------\u001b[0m",
      "\u001b[1;31mTypeError\u001b[0m                                 Traceback (most recent call last)",
      "\u001b[1;32m<ipython-input-20-98cb669cc173>\u001b[0m in \u001b[0;36m<module>\u001b[1;34m\u001b[0m\n\u001b[1;32m----> 1\u001b[1;33m \u001b[0mname_set\u001b[0m\u001b[1;33m[\u001b[0m\u001b[1;36m2\u001b[0m\u001b[1;33m]\u001b[0m\u001b[1;33m\u001b[0m\u001b[1;33m\u001b[0m\u001b[0m\n\u001b[0m",
      "\u001b[1;31mTypeError\u001b[0m: 'set' object is not subscriptable"
     ]
    }
   ],
   "source": [
    "name_set[2]"
   ]
  },
  {
   "cell_type": "markdown",
   "metadata": {},
   "source": [
    "**集合不能切片**"
   ]
  },
  {
   "cell_type": "code",
   "execution_count": null,
   "metadata": {},
   "outputs": [],
   "source": []
  }
 ],
 "metadata": {
  "kernelspec": {
   "display_name": "Python 3",
   "language": "python",
   "name": "python3"
  },
  "language_info": {
   "codemirror_mode": {
    "name": "ipython",
    "version": 3
   },
   "file_extension": ".py",
   "mimetype": "text/x-python",
   "name": "python",
   "nbconvert_exporter": "python",
   "pygments_lexer": "ipython3",
   "version": "3.7.5"
  },
  "toc": {
   "base_numbering": 1,
   "nav_menu": {},
   "number_sections": false,
   "sideBar": true,
   "skip_h1_title": false,
   "title_cell": "Table of Contents",
   "title_sidebar": "Contents",
   "toc_cell": false,
   "toc_position": {},
   "toc_section_display": true,
   "toc_window_display": true
  },
  "varInspector": {
   "cols": {
    "lenName": 16,
    "lenType": 16,
    "lenVar": 40
   },
   "kernels_config": {
    "python": {
     "delete_cmd_postfix": "",
     "delete_cmd_prefix": "del ",
     "library": "var_list.py",
     "varRefreshCmd": "print(var_dic_list())"
    },
    "r": {
     "delete_cmd_postfix": ") ",
     "delete_cmd_prefix": "rm(",
     "library": "var_list.r",
     "varRefreshCmd": "cat(var_dic_list()) "
    }
   },
   "types_to_exclude": [
    "module",
    "function",
    "builtin_function_or_method",
    "instance",
    "_Feature"
   ],
   "window_display": false
  }
 },
 "nbformat": 4,
 "nbformat_minor": 4
}
