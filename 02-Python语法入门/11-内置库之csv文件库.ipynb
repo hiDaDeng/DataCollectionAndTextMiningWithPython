{
 "cells": [
  {
   "cell_type": "markdown",
   "metadata": {},
   "source": [
    "### csv存储数据代码步骤\n",
    "1. 新建一个csv文件\n",
    "\n",
    "```python\n",
    "import csv\n",
    "path = 'data/test.csv'\n",
    "csvf = open(path, 'a+', encoding='utf-8', newline='')\n",
    "```\n",
    "\n",
    "2. 定义字段名，并初始化csv文件为writer\n",
    "\n",
    "```python\n",
    "fieldnames = ['name', 'age']\n",
    "writer = csv.DictWriter(csvf, fieldnames=fieldnames)\n",
    "writer.writeheader()\n",
    "```\n",
    "\n",
    "3. 将待存储数据整理为字典格式\n",
    "\n",
    "```python\n",
    "test_data = {'name': 'David',\n",
    "             'age': 25}\n",
    "```\n",
    "\n",
    "4. 用writer往csv中存储数据\n",
    "\n",
    "```python\n",
    "writer.writerow(test_data)\n",
    "```\n",
    "\n",
    "5. 最后记得关闭csv文件\n",
    "\n",
    "```python\n",
    "csvf.close()\n",
    "```"
   ]
  },
  {
   "cell_type": "code",
   "execution_count": 4,
   "metadata": {},
   "outputs": [],
   "source": [
    "import csv\n",
    "\n",
    "csvf = open('data/test1.csv', 'a+', encoding='utf-8', newline='')\n",
    "fieldnames = ['name', 'age']\n",
    "writer = csv.DictWriter(csvf, fieldnames=fieldnames)\n",
    "writer.writeheader()\n",
    "\n",
    "\n",
    "csvf.close()"
   ]
  },
  {
   "cell_type": "code",
   "execution_count": null,
   "metadata": {},
   "outputs": [],
   "source": []
  },
  {
   "cell_type": "code",
   "execution_count": null,
   "metadata": {},
   "outputs": [],
   "source": [
    "import csv\n",
    "\n",
    "csvf = open('data/test2.csv', 'a+', encoding='utf-8', newline='')\n",
    "fieldnames = ['name', 'age']\n",
    "writer = csv.DictWriter(csvf, fieldnames=fieldnames)\n",
    "writer.writeheader()\n",
    "\n",
    "test_data = {'name': 'David',\n",
    "             'age': 25}\n",
    "writer.writerow(test_data)\n",
    "\n",
    "csvf.close()"
   ]
  },
  {
   "cell_type": "markdown",
   "metadata": {},
   "source": [
    "### 很多数据的存储"
   ]
  },
  {
   "cell_type": "code",
   "execution_count": 5,
   "metadata": {},
   "outputs": [
    {
     "data": {
      "text/plain": [
       "[{'name': 'David', 'age': 25},\n",
       " {'name': 'Mary', 'age': 30},\n",
       " {'name': 'Henry', 'age': 35}]"
      ]
     },
     "execution_count": 5,
     "metadata": {},
     "output_type": "execute_result"
    }
   ],
   "source": [
    "datas = [{'name': 'David', 'age': 25}, \n",
    "         {'name': 'Mary', 'age': 30},\n",
    "         {'name': 'Henry', 'age': 35}]\n",
    "\n",
    "datas"
   ]
  },
  {
   "cell_type": "code",
   "execution_count": 6,
   "metadata": {},
   "outputs": [],
   "source": [
    "import csv\n",
    "\n",
    "csvf = open('data/test2.csv', 'a+', encoding='utf-8', newline='')\n",
    "fieldnames = ['name', 'age']\n",
    "writer = csv.DictWriter(csvf, fieldnames=fieldnames)\n",
    "writer.writeheader()\n",
    "\n",
    "for data in datas:\n",
    "    writer.writerow(data)\n",
    "\n",
    "csvf.close()"
   ]
  },
  {
   "cell_type": "code",
   "execution_count": null,
   "metadata": {},
   "outputs": [],
   "source": []
  }
 ],
 "metadata": {
  "kernelspec": {
   "display_name": "Python 3",
   "language": "python",
   "name": "python3"
  },
  "language_info": {
   "codemirror_mode": {
    "name": "ipython",
    "version": 3
   },
   "file_extension": ".py",
   "mimetype": "text/x-python",
   "name": "python",
   "nbconvert_exporter": "python",
   "pygments_lexer": "ipython3",
   "version": "3.7.5"
  },
  "toc": {
   "base_numbering": 1,
   "nav_menu": {},
   "number_sections": false,
   "sideBar": true,
   "skip_h1_title": false,
   "title_cell": "Table of Contents",
   "title_sidebar": "Contents",
   "toc_cell": false,
   "toc_position": {},
   "toc_section_display": true,
   "toc_window_display": true
  },
  "varInspector": {
   "cols": {
    "lenName": 16,
    "lenType": 16,
    "lenVar": 40
   },
   "kernels_config": {
    "python": {
     "delete_cmd_postfix": "",
     "delete_cmd_prefix": "del ",
     "library": "var_list.py",
     "varRefreshCmd": "print(var_dic_list())"
    },
    "r": {
     "delete_cmd_postfix": ") ",
     "delete_cmd_prefix": "rm(",
     "library": "var_list.r",
     "varRefreshCmd": "cat(var_dic_list()) "
    }
   },
   "types_to_exclude": [
    "module",
    "function",
    "builtin_function_or_method",
    "instance",
    "_Feature"
   ],
   "window_display": false
  }
 },
 "nbformat": 4,
 "nbformat_minor": 4
}
