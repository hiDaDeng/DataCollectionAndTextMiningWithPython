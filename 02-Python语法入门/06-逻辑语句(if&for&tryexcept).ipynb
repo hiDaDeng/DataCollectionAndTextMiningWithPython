{
 "cells": [
  {
   "cell_type": "markdown",
   "metadata": {},
   "source": [
    "# if条件判断\n",
    "![](img/if图.png)\n",
    "\n",
    "## condition为布尔值、布尔运算、成员运算符\n",
    "通常我们理解的condition为布尔值"
   ]
  },
  {
   "cell_type": "code",
   "execution_count": 1,
   "metadata": {},
   "outputs": [
    {
     "name": "stdout",
     "output_type": "stream",
     "text": [
      "condition为True\n"
     ]
    }
   ],
   "source": [
    "#Tab\n",
    "condition = True\n",
    "\n",
    "if condition:\n",
    "    print('condition为True')\n",
    "else:\n",
    "    print('condition为False')"
   ]
  },
  {
   "cell_type": "code",
   "execution_count": 2,
   "metadata": {},
   "outputs": [
    {
     "name": "stdout",
     "output_type": "stream",
     "text": [
      "你还是个孩子\n"
     ]
    }
   ],
   "source": [
    "age = 17\n",
    "\n",
    "if age>=18:\n",
    "    print('你是成年人了')\n",
    "else:\n",
    "    print('你还是个孩子')"
   ]
  },
  {
   "cell_type": "code",
   "execution_count": 3,
   "metadata": {},
   "outputs": [
    {
     "name": "stdout",
     "output_type": "stream",
     "text": [
      "青年\n"
     ]
    }
   ],
   "source": [
    "age = 20\n",
    "\n",
    "if age>=55:\n",
    "    print('老年人')\n",
    "elif 35<=age<55:\n",
    "    print('中年')\n",
    "elif 18<=age<35:\n",
    "    print('青年')\n",
    "elif 0<=age<18:\n",
    "    print('儿童')\n"
   ]
  },
  {
   "cell_type": "markdown",
   "metadata": {},
   "source": [
    "## 特殊的conditon\n",
    "- 各种空值(空字符串、空列表等)作用等同于False\n",
    "- 各种非空值，作用等同于True"
   ]
  },
  {
   "cell_type": "code",
   "execution_count": 8,
   "metadata": {},
   "outputs": [
    {
     "name": "stdout",
     "output_type": "stream",
     "text": [
      "a是空数据\n"
     ]
    }
   ],
   "source": [
    "a = None\n",
    "\n",
    "if a:\n",
    "    print('a是非空数据')\n",
    "else:\n",
    "    print('a是空数据')"
   ]
  },
  {
   "cell_type": "code",
   "execution_count": null,
   "metadata": {},
   "outputs": [],
   "source": []
  },
  {
   "cell_type": "markdown",
   "metadata": {},
   "source": [
    "# for循环\n",
    "- 重复做某件事\n",
    "- 迭代出数据中的内容(元素)\n",
    "![](img/for循环.png)"
   ]
  },
  {
   "cell_type": "markdown",
   "metadata": {},
   "source": [
    "### 上面这个图可以解读为\n",
    "\n",
    "我们想对iterable这个集合中的每一个item:\n",
    "    \n",
    "    做点事(对item做操作)"
   ]
  },
  {
   "cell_type": "markdown",
   "metadata": {
    "solution2": "hidden",
    "solution2_first": true
   },
   "source": [
    "## 重复做某事\n",
    "\n",
    "### 问题1\n",
    "计算1+2+3+...+97+98+99+100=?"
   ]
  },
  {
   "cell_type": "markdown",
   "metadata": {
    "collapsed": true,
    "solution2": "hidden"
   },
   "source": [
    "1 + 2 = 3\n",
    "3 + 3 = 6\n",
    "6 + 4 = 10\n",
    "10 + 5 = 15\n"
   ]
  },
  {
   "cell_type": "code",
   "execution_count": 9,
   "metadata": {},
   "outputs": [
    {
     "name": "stdout",
     "output_type": "stream",
     "text": [
      "5050\n"
     ]
    }
   ],
   "source": [
    "result = 0\n",
    "\n",
    "#int\n",
    "for i in range(1, 101):\n",
    "    result = result + i\n",
    "    \n",
    "print(result)"
   ]
  },
  {
   "cell_type": "markdown",
   "metadata": {},
   "source": [
    "## 迭代出数据中的内容"
   ]
  },
  {
   "cell_type": "code",
   "execution_count": 10,
   "metadata": {},
   "outputs": [
    {
     "name": "stdout",
     "output_type": "stream",
     "text": [
      "David\n",
      "Henry\n",
      "Mary\n"
     ]
    }
   ],
   "source": [
    "names = ['David', 'Henry', 'Mary']\n",
    "\n",
    "for name in names:\n",
    "    print(name)"
   ]
  },
  {
   "cell_type": "code",
   "execution_count": 11,
   "metadata": {},
   "outputs": [
    {
     "name": "stdout",
     "output_type": "stream",
     "text": [
      "D\n",
      "a\n",
      "v\n",
      "i\n",
      "d\n"
     ]
    }
   ],
   "source": [
    "name = 'David'\n",
    "\n",
    "for s in name:\n",
    "    print(s)"
   ]
  },
  {
   "cell_type": "code",
   "execution_count": 16,
   "metadata": {},
   "outputs": [
    {
     "name": "stdout",
     "output_type": "stream",
     "text": [
      "('David', {'age': 25, 'gender': 'Male'})\n",
      "('Mary', {'age': 23, 'gender': 'Female'})\n",
      "('Henry', {'age': 23, 'gender': 'Male'})\n"
     ]
    }
   ],
   "source": [
    "infos =  {'David':{'age':25, \n",
    "                   'gender':'Male'},\n",
    "          'Mary':{'age':23,\n",
    "                  'gender': 'Female'},\n",
    "          'Henry':{'age':23,\n",
    "                  'gender': 'Male'}\n",
    "         }\n",
    "\n",
    "for item in infos.items():\n",
    "    print(item)"
   ]
  },
  {
   "cell_type": "code",
   "execution_count": 18,
   "metadata": {},
   "outputs": [
    {
     "name": "stdout",
     "output_type": "stream",
     "text": [
      "David\n",
      "Mary\n",
      "Henry\n"
     ]
    }
   ],
   "source": [
    "for name, info in infos.items():\n",
    "    print(name, info)"
   ]
  },
  {
   "cell_type": "markdown",
   "metadata": {},
   "source": [
    "# try-except"
   ]
  },
  {
   "cell_type": "code",
   "execution_count": 19,
   "metadata": {},
   "outputs": [
    {
     "name": "stdout",
     "output_type": "stream",
     "text": [
      "10.0\n",
      "5.0\n"
     ]
    },
    {
     "ename": "ZeroDivisionError",
     "evalue": "division by zero",
     "output_type": "error",
     "traceback": [
      "\u001b[1;31m---------------------------------------------------------------------------\u001b[0m",
      "\u001b[1;31mZeroDivisionError\u001b[0m                         Traceback (most recent call last)",
      "\u001b[1;32m<ipython-input-19-83bea9c92c0e>\u001b[0m in \u001b[0;36m<module>\u001b[1;34m\u001b[0m\n\u001b[0;32m      1\u001b[0m \u001b[1;32mfor\u001b[0m \u001b[0mx\u001b[0m \u001b[1;32min\u001b[0m \u001b[1;33m[\u001b[0m\u001b[1;36m1\u001b[0m\u001b[1;33m,\u001b[0m\u001b[1;36m2\u001b[0m\u001b[1;33m,\u001b[0m\u001b[1;36m0\u001b[0m\u001b[1;33m,\u001b[0m\u001b[1;36m2\u001b[0m\u001b[1;33m,\u001b[0m\u001b[1;36m1\u001b[0m\u001b[1;33m]\u001b[0m\u001b[1;33m:\u001b[0m\u001b[1;33m\u001b[0m\u001b[1;33m\u001b[0m\u001b[0m\n\u001b[1;32m----> 2\u001b[1;33m     \u001b[0mprint\u001b[0m\u001b[1;33m(\u001b[0m\u001b[1;36m10\u001b[0m\u001b[1;33m/\u001b[0m\u001b[0mx\u001b[0m\u001b[1;33m)\u001b[0m\u001b[1;33m\u001b[0m\u001b[1;33m\u001b[0m\u001b[0m\n\u001b[0m",
      "\u001b[1;31mZeroDivisionError\u001b[0m: division by zero"
     ]
    }
   ],
   "source": [
    "for x in [1,2,0,2,1]:\n",
    "    print(10/x)"
   ]
  },
  {
   "cell_type": "code",
   "execution_count": 21,
   "metadata": {},
   "outputs": [
    {
     "name": "stdout",
     "output_type": "stream",
     "text": [
      "10.0\n",
      "5.0\n",
      "0除错误\n",
      "5.0\n",
      "10.0\n"
     ]
    }
   ],
   "source": [
    "for x in [1,2,0,2,1]:\n",
    "    try:\n",
    "        print(10/x)\n",
    "    except:\n",
    "        print('0除错误')\n",
    "        #pass"
   ]
  },
  {
   "cell_type": "markdown",
   "metadata": {
    "solution2": "hidden",
    "solution2_first": true
   },
   "source": [
    "## 练习1\n",
    "\n",
    "假设现在某人的能力为1， 每天比前一天进步0.01， 一年后他的能力是多少？"
   ]
  },
  {
   "cell_type": "code",
   "execution_count": 24,
   "metadata": {
    "collapsed": true
   },
   "outputs": [
    {
     "name": "stdout",
     "output_type": "stream",
     "text": [
      "[1.01, 1.0201, 1.030301, 1.04060401, 1.0510100501, 1.061520150601, 1.0721353521070098, 1.08285670562808, 1.0936852726843609, 1.1046221254112045, 1.1156683466653166, 1.1268250301319698, 1.1380932804332895, 1.1494742132376223, 1.1609689553699987, 1.1725786449236986, 1.1843044313729356, 1.196147475686665, 1.2081089504435316, 1.220190039947967, 1.2323919403474468, 1.2447158597509214, 1.2571630183484306, 1.269734648531915, 1.282431995017234, 1.2952563149674063, 1.3082088781170804, 1.3212909668982513, 1.334503876567234, 1.3478489153329063, 1.3613274044862353, 1.3749406785310978, 1.3886900853164088, 1.402576986169573, 1.4166027560312686, 1.4307687835915812, 1.445076471427497, 1.4595272361417722, 1.47412250850319, 1.4888637335882218, 1.503752370924104, 1.5187898946333451, 1.5339777935796786, 1.5493175715154754, 1.5648107472306303, 1.5804588547029366, 1.596263443249966, 1.6122260776824657, 1.6283483384592905, 1.6446318218438833, 1.6610781400623222, 1.6776889214629456, 1.694465810677575, 1.7114104687843508, 1.7285245734721943, 1.7458098192069162, 1.7632679173989854, 1.7809005965729752, 1.798709602538705, 1.8166966985640922, 1.8348636655497332, 1.8532123022052305, 1.8717444252272828, 1.8904618694795556, 1.9093664881743513, 1.9284601530560948, 1.9477447545866557, 1.9672222021325223, 1.9868944241538475, 2.006763368395386, 2.02683100207934, 2.047099312100133, 2.0675703052211345, 2.088246008273346, 2.1091284683560794, 2.1302197530396403, 2.1515219505700367, 2.173037170075737, 2.1947675417764945, 2.2167152171942592, 2.238882369366202, 2.261271193059864, 2.2838839049904625, 2.3067227440403673, 2.329789971480771, 2.3530878711955787, 2.3766187499075344, 2.40038493740661, 2.424388786780676, 2.4486326746484828, 2.4731190013949678, 2.4978501914089173, 2.5228286933230066, 2.5480569802562365, 2.573537550058799, 2.599272925559387, 2.6252656548149806, 2.6515183113631307, 2.678033494476762, 2.7048138294215294, 2.7318619677157447, 2.759180587392902, 2.786772393266831, 2.8146401171994992, 2.8427865183714944, 2.8712143835552095, 2.8999265273907615, 2.928925792664669, 2.9582150505913156, 2.9877972010972287, 3.017675173108201, 3.0478519248392835, 3.078330444087676, 3.109113748528553, 3.1402048860138385, 3.171606934873977, 3.203323004222717, 3.2353562342649442, 3.2677097966075936, 3.3003868945736694, 3.333390763519406, 3.3667246711546, 3.400391917866146, 3.4343958370448076, 3.4687397954152557, 3.5034271933694083, 3.5384614653031026, 3.573846079956134, 3.6095845407556952, 3.645680386163252, 3.6821371900248847, 3.7189585619251337, 3.756148147544385, 3.793709629019829, 3.8316467253100273, 3.8699631925631275, 3.9086628244887587, 3.947749452733646, 3.9872269472609827, 4.027099216733593, 4.067370208900929, 4.108043910989938, 4.149124350099838, 4.190615593600836, 4.232521749536844, 4.274846967032213, 4.317595436702534, 4.36077139106956, 4.404379104980255, 4.448422896030058, 4.492907124990358, 4.537836196240262, 4.583214558202664, 4.629046703784691, 4.675337170822537, 4.722090542530763, 4.7693114479560705, 4.817004562435631, 4.865174608059988, 4.913826354140587, 4.962964617681993, 5.012594263858813, 5.062720206497401, 5.113347408562375, 5.164480882647999, 5.216125691474479, 5.268286948389224, 5.320969817873116, 5.374179516051847, 5.427921311212366, 5.482200524324489, 5.537022529567734, 5.592392754863411, 5.648316682412045, 5.704799849236166, 5.761847847728528, 5.819466326205813, 5.877660989467871, 5.9364375993625496, 5.9958019753561755, 6.055759995109737, 6.116317595060834, 6.177480771011442, 6.239255578721557, 6.301648134508772, 6.36466461585386, 6.428311262012398, 6.492594374632523, 6.557520318378848, 6.623095521562637, 6.689326476778263, 6.7562197415460465, 6.823781938961507, 6.892019758351122, 6.960939955934633, 7.03054935549398, 7.100854849048919, 7.171863397539409, 7.243582031514803, 7.316017851829951, 7.38917803034825, 7.463069810651733, 7.537700508758251, 7.613077513845833, 7.689208288984291, 7.766100371874135, 7.843761375592877, 7.922198989348805, 8.001420979242294, 8.081435189034718, 8.162249540925066, 8.243872036334317, 8.32631075669766, 8.409573864264637, 8.493669602907284, 8.578606298936357, 8.66439236192572, 8.751036285544979, 8.83854664840043, 8.926932114884433, 9.016201436033278, 9.10636345039361, 9.197427084897546, 9.289401355746522, 9.382295369303987, 9.476118322997028, 9.570879506226998, 9.666588301289268, 9.763254184302161, 9.860886726145182, 9.959495593406634, 10.0590905493407, 10.159681454834107, 10.261278269382448, 10.363891052076273, 10.467529962597036, 10.572205262223006, 10.677927314845236, 10.78470658799369, 10.892553653873627, 11.001479190412363, 11.111493982316487, 11.222608922139653, 11.334835011361049, 11.44818336147466, 11.562665195089407, 11.6782918470403, 11.795074765510703, 11.91302551316581, 12.032155768297468, 12.152477325980442, 12.274002099240246, 12.396742120232648, 12.520709541434975, 12.645916636849325, 12.772375803217818, 12.900099561249997, 13.029100556862497, 13.159391562431122, 13.290985478055433, 13.423895332835986, 13.558134286164346, 13.69371562902599, 13.83065278531625, 13.968959313169412, 14.108648906301106, 14.249735395364118, 14.39223274931776, 14.536155076810937, 14.681516627579047, 14.828331793854836, 14.976615111793384, 15.126381262911318, 15.27764507554043, 15.430421526295834, 15.584725741558794, 15.740572998974383, 15.897978728964127, 16.05695851625377, 16.217528101416306, 16.37970338243047, 16.543500416254776, 16.708935420417323, 16.876024774621495, 17.04478502236771, 17.215232872591386, 17.3873852013173, 17.561259053330474, 17.73687164386378, 17.91424036030242, 18.093382763905442, 18.274316591544498, 18.45705975745994, 18.64163035503454, 18.828046658584885, 19.016327125170733, 19.206490396422442, 19.398555300386665, 19.59254085339053, 19.788466261924437, 19.986350924543682, 20.186214433789118, 20.38807657812701, 20.59195734390828, 20.797876917347363, 21.005855686520835, 21.215914243386045, 21.428073385819907, 21.642354119678107, 21.85877766087489, 22.07736543748364, 22.298139091858477, 22.52112048277706, 22.746331687604833, 22.97379500448088, 23.203532954525688, 23.435568284070946, 23.669923966911657, 23.906623206580775, 24.145689438646585, 24.38714633303305, 24.63101779636338, 24.877327974327013, 25.126101254070285, 25.377362266610987, 25.631135889277097, 25.887447248169867, 26.146321720651567, 26.407784937858082, 26.671862787236662, 26.93858141510903, 27.20796722926012, 27.480046901552722, 27.75484737056825, 28.032395844273932, 28.31271980271667, 28.595847000743838, 28.881805470751278, 29.17062352545879, 29.462329760713377, 29.756953058320512, 30.05452258890372, 30.355067814792758, 30.658618492940686, 30.965204677870094, 31.274856724648796, 31.587605291895283, 31.903481344814235, 32.22251615826238, 32.544741319845, 32.870188733043456, 33.19889062037389, 33.53087952657763, 33.8661883218434, 34.20485020506184, 34.546898707112454, 34.89236769418358, 35.24129137112541, 35.59370428483667, 35.949641327685036, 36.30913774096189, 36.672229118371504, 37.03895140955522, 37.40934092365077, 37.783434332887275]\n"
     ]
    }
   ],
   "source": [
    "ability = 1\n",
    "scale = 1.01\n",
    "\n",
    "records = []\n",
    "for i in range(365):\n",
    "    ability = ability * 1.01\n",
    "    records.append(ability)\n",
    "    \n",
    "print(records)"
   ]
  },
  {
   "cell_type": "code",
   "execution_count": null,
   "metadata": {},
   "outputs": [],
   "source": []
  },
  {
   "cell_type": "code",
   "execution_count": 26,
   "metadata": {
    "solution2": "hidden"
   },
   "outputs": [
    {
     "data": {
      "text/plain": [
       "Text(0.5, 1.0, 'Be better everyday!')"
      ]
     },
     "execution_count": 26,
     "metadata": {},
     "output_type": "execute_result"
    },
    {
     "data": {
      "image/png": "[encoded data removed]",
      "text/plain": [
       "<Figure size 432x288 with 1 Axes>"
      ]
     },
     "metadata": {
      "needs_background": "light"
     },
     "output_type": "display_data"
    }
   ],
   "source": [
    "import matplotlib.pyplot as plt\n",
    "import math\n",
    "%matplotlib inline\n",
    "\n",
    "ability = 1\n",
    "scale = 1.02\n",
    "records = []\n",
    "\n",
    "days = range(1, 365)\n",
    "for day in days:\n",
    "    ability = ability*scale\n",
    "    records.append(ability)\n",
    " \n",
    "\n",
    "plt.plot(days, records)\n",
    "plt.title('Be better everyday!')"
   ]
  },
  {
   "cell_type": "markdown",
   "metadata": {},
   "source": [
    "# 安装包的方法\n",
    "1. 命令行执行 ``pip install packagename``\n",
    "2. jupyter notebook的Cell中执行``!pip install packagename``\n",
    "3. 如果是mac，pip写成pip3"
   ]
  },
  {
   "cell_type": "code",
   "execution_count": 4,
   "metadata": {
    "collapsed": true
   },
   "outputs": [
    {
     "name": "stdout",
     "output_type": "stream",
     "text": [
      "Looking in indexes: https://mirrors.aliyun.com/pypi/simple/\n",
      "Requirement already satisfied: matplotlib in c:\\users\\thunderhit\\appdata\\local\\programs\\python\\python37-32\\lib\\site-packages (3.2.1)\n",
      "Requirement already satisfied: kiwisolver>=1.0.1 in c:\\users\\thunderhit\\appdata\\local\\programs\\python\\python37-32\\lib\\site-packages (from matplotlib) (1.2.0)\n",
      "Requirement already satisfied: python-dateutil>=2.1 in c:\\users\\thunderhit\\appdata\\local\\programs\\python\\python37-32\\lib\\site-packages (from matplotlib) (2.8.1)\n",
      "Requirement already satisfied: cycler>=0.10 in c:\\users\\thunderhit\\appdata\\local\\programs\\python\\python37-32\\lib\\site-packages (from matplotlib) (0.10.0)\n",
      "Requirement already satisfied: numpy>=1.11 in c:\\users\\thunderhit\\appdata\\local\\programs\\python\\python37-32\\lib\\site-packages (from matplotlib) (1.18.2)\n",
      "Requirement already satisfied: pyparsing!=2.0.4,!=2.1.2,!=2.1.6,>=2.0.1 in c:\\users\\thunderhit\\appdata\\local\\programs\\python\\python37-32\\lib\\site-packages (from matplotlib) (2.4.7)\n",
      "Requirement already satisfied: six>=1.5 in c:\\users\\thunderhit\\appdata\\local\\programs\\python\\python37-32\\lib\\site-packages (from python-dateutil>=2.1->matplotlib) (1.14.0)\n"
     ]
    }
   ],
   "source": [
    "!pip install matplotlib"
   ]
  },
  {
   "cell_type": "markdown",
   "metadata": {},
   "source": [
    "## 练习2\n",
    "**打印九九乘法表格**\n",
    "![](img/九九乘法表2.png)\n",
    "\n",
    "\n",
    "用到的知识点:\n",
    "- for循环\n",
    "- 字符串format方法\n",
    "- print函数(涉及到end参数)"
   ]
  },
  {
   "cell_type": "code",
   "execution_count": 33,
   "metadata": {},
   "outputs": [
    {
     "name": "stdout",
     "output_type": "stream",
     "text": [
      "1*1=1\t\n",
      "1*2=2\t2*2=4\t\n",
      "1*3=3\t2*3=6\t3*3=9\t\n",
      "1*4=4\t2*4=8\t3*4=12\t4*4=16\t\n",
      "1*5=5\t2*5=10\t3*5=15\t4*5=20\t5*5=25\t\n",
      "1*6=6\t2*6=12\t3*6=18\t4*6=24\t5*6=30\t6*6=36\t\n",
      "1*7=7\t2*7=14\t3*7=21\t4*7=28\t5*7=35\t6*7=42\t7*7=49\t\n",
      "1*8=8\t2*8=16\t3*8=24\t4*8=32\t5*8=40\t6*8=48\t7*8=56\t8*8=64\t\n",
      "1*9=9\t2*9=18\t3*9=27\t4*9=36\t5*9=45\t6*9=54\t7*9=63\t8*9=72\t9*9=81\t\n"
     ]
    }
   ],
   "source": [
    "for row in range(1, 10):\n",
    "    #print(row)\n",
    "    for col in range(1, row+1):\n",
    "        formula = '{col}*{row}={res}'.format(col=col, row=row, res=col*row)\n",
    "        print(formula, end='\\t')\n",
    "    print('')"
   ]
  },
  {
   "cell_type": "code",
   "execution_count": 32,
   "metadata": {},
   "outputs": [
    {
     "name": "stdout",
     "output_type": "stream",
     "text": [
      "Help on built-in function print in module builtins:\n",
      "\n",
      "print(...)\n",
      "    print(value, ..., sep=' ', end='\\n', file=sys.stdout, flush=False)\n",
      "    \n",
      "    Prints the values to a stream, or to sys.stdout by default.\n",
      "    Optional keyword arguments:\n",
      "    file:  a file-like object (stream); defaults to the current sys.stdout.\n",
      "    sep:   string inserted between values, default a space.\n",
      "    end:   string appended after the last value, default a newline.\n",
      "    flush: whether to forcibly flush the stream.\n",
      "\n"
     ]
    }
   ],
   "source": [
    "help(print)"
   ]
  },
  {
   "cell_type": "code",
   "execution_count": null,
   "metadata": {},
   "outputs": [],
   "source": []
  },
  {
   "cell_type": "markdown",
   "metadata": {
    "solution2": "hidden",
    "solution2_first": true
   },
   "source": []
  },
  {
   "cell_type": "code",
   "execution_count": null,
   "metadata": {},
   "outputs": [],
   "source": []
  },
  {
   "cell_type": "code",
   "execution_count": 18,
   "metadata": {
    "collapsed": true
   },
   "outputs": [
    {
     "name": "stdout",
     "output_type": "stream",
     "text": [
      "1*1=1\t\n",
      "1*2=2\t2*2=4\t\n",
      "1*3=3\t2*3=6\t3*3=9\t\n",
      "1*4=4\t2*4=8\t3*4=12\t4*4=16\t\n",
      "1*5=5\t2*5=10\t3*5=15\t4*5=20\t5*5=25\t\n",
      "1*6=6\t2*6=12\t3*6=18\t4*6=24\t5*6=30\t6*6=36\t\n",
      "1*7=7\t2*7=14\t3*7=21\t4*7=28\t5*7=35\t6*7=42\t7*7=49\t\n",
      "1*8=8\t2*8=16\t3*8=24\t4*8=32\t5*8=40\t6*8=48\t7*8=56\t8*8=64\t\n",
      "1*9=9\t2*9=18\t3*9=27\t4*9=36\t5*9=45\t6*9=54\t7*9=63\t8*9=72\t9*9=81\t\n"
     ]
    }
   ],
   "source": [
    "for row in range(1, 10):\n",
    "    for col in range(1, row+1):\n",
    "        formula = '{col}*{row}={res}'\n",
    "        content = formula.format(col=col, row=row, res=col*row)\n",
    "        print(content, end='\\t')\n",
    "    print()\n",
    "    "
   ]
  }
 ],
 "metadata": {
  "kernelspec": {
   "display_name": "Python 3",
   "language": "python",
   "name": "python3"
  },
  "language_info": {
   "codemirror_mode": {
    "name": "ipython",
    "version": 3
   },
   "file_extension": ".py",
   "mimetype": "text/x-python",
   "name": "python",
   "nbconvert_exporter": "python",
   "pygments_lexer": "ipython3",
   "version": "3.7.5"
  },
  "toc": {
   "base_numbering": 1,
   "nav_menu": {},
   "number_sections": false,
   "sideBar": true,
   "skip_h1_title": false,
   "title_cell": "Table of Contents",
   "title_sidebar": "Contents",
   "toc_cell": false,
   "toc_position": {},
   "toc_section_display": true,
   "toc_window_display": true
  },
  "varInspector": {
   "cols": {
    "lenName": 16,
    "lenType": 16,
    "lenVar": 40
   },
   "kernels_config": {
    "python": {
     "delete_cmd_postfix": "",
     "delete_cmd_prefix": "del ",
     "library": "var_list.py",
     "varRefreshCmd": "print(var_dic_list())"
    },
    "r": {
     "delete_cmd_postfix": ") ",
     "delete_cmd_prefix": "rm(",
     "library": "var_list.r",
     "varRefreshCmd": "cat(var_dic_list()) "
    }
   },
   "types_to_exclude": [
    "module",
    "function",
    "builtin_function_or_method",
    "instance",
    "_Feature"
   ],
   "window_display": false
  }
 },
 "nbformat": 4,
 "nbformat_minor": 4
}
