{
 "cells": [
  {
   "cell_type": "markdown",
   "metadata": {},
   "source": [
    "### 输出数字a的绝对数"
   ]
  },
  {
   "cell_type": "code",
   "execution_count": 1,
   "metadata": {},
   "outputs": [
    {
     "name": "stdout",
     "output_type": "stream",
     "text": [
      "50\n"
     ]
    }
   ],
   "source": [
    "a = -50\n",
    "\n",
    "if a >= 0:\n",
    "    print(a)\n",
    "else:\n",
    "    print(-a)"
   ]
  },
  {
   "cell_type": "markdown",
   "metadata": {},
   "source": [
    "There is such a number a, if a is greater than or equal to 0, we will print a; if a is less than 0, we will print -a"
   ]
  },
  {
   "cell_type": "code",
   "execution_count": null,
   "metadata": {},
   "outputs": [],
   "source": []
  },
  {
   "cell_type": "markdown",
   "metadata": {},
   "source": [
    "### Python与英语对比\n",
    "\n",
    "| 英语 | Python   | 例如 |\n",
    "| :---- | :---- | :---- |\n",
    "| **单词** | 数据类型 | 列表、字符串、字典等          |\n",
    "| **语法** | 逻辑语句 | if条件判读语句、for循环语句等 |\n",
    "\n",
    "\n",
    "\n",
    "\n",
    "\n",
    "\n",
    "\n",
    "\n"
   ]
  },
  {
   "cell_type": "code",
   "execution_count": null,
   "metadata": {},
   "outputs": [],
   "source": []
  },
  {
   "cell_type": "markdown",
   "metadata": {},
   "source": [
    "### 每天进步一点点"
   ]
  },
  {
   "cell_type": "code",
   "execution_count": 2,
   "metadata": {
    "collapsed": true
   },
   "outputs": [
    {
     "name": "stdout",
     "output_type": "stream",
     "text": [
      "Looking in indexes: https://mirrors.aliyun.com/pypi/simple/\n",
      "Requirement already satisfied: matplotlib in c:\\users\\thunderhit\\appdata\\local\\programs\\python\\python37-32\\lib\\site-packages (3.2.1)\n",
      "Requirement already satisfied: pyparsing!=2.0.4,!=2.1.2,!=2.1.6,>=2.0.1 in c:\\users\\thunderhit\\appdata\\local\\programs\\python\\python37-32\\lib\\site-packages (from matplotlib) (2.4.7)\n",
      "Requirement already satisfied: cycler>=0.10 in c:\\users\\thunderhit\\appdata\\local\\programs\\python\\python37-32\\lib\\site-packages (from matplotlib) (0.10.0)\n",
      "Requirement already satisfied: numpy>=1.11 in c:\\users\\thunderhit\\appdata\\local\\programs\\python\\python37-32\\lib\\site-packages (from matplotlib) (1.18.2)\n",
      "Requirement already satisfied: kiwisolver>=1.0.1 in c:\\users\\thunderhit\\appdata\\local\\programs\\python\\python37-32\\lib\\site-packages (from matplotlib) (1.2.0)\n",
      "Requirement already satisfied: python-dateutil>=2.1 in c:\\users\\thunderhit\\appdata\\local\\programs\\python\\python37-32\\lib\\site-packages (from matplotlib) (2.8.1)\n",
      "Requirement already satisfied: six in c:\\users\\thunderhit\\appdata\\local\\programs\\python\\python37-32\\lib\\site-packages (from cycler>=0.10->matplotlib) (1.14.0)\n"
     ]
    }
   ],
   "source": [
    "#mac\n",
    "#!pip3 install matplotlib\n",
    "\n",
    "\n",
    "#win\n",
    "!pip install matplotlib"
   ]
  },
  {
   "cell_type": "code",
   "execution_count": 3,
   "metadata": {},
   "outputs": [
    {
     "data": {
      "text/plain": [
       "Text(0.5, 1.0, 'Be better everyday!')"
      ]
     },
     "execution_count": 3,
     "metadata": {},
     "output_type": "execute_result"
    },
    {
     "data": {
      "image/png": "[encoded data removed]",
      "text/plain": [
       "<Figure size 432x288 with 1 Axes>"
      ]
     },
     "metadata": {
      "needs_background": "light"
     },
     "output_type": "display_data"
    }
   ],
   "source": [
    "import matplotlib.pyplot as plt\n",
    "import math\n",
    "%matplotlib inline\n",
    "\n",
    "ability = 1\n",
    "scale = 1.01\n",
    "records = []\n",
    "\n",
    "days = range(1, 365)\n",
    "for day in days:\n",
    "    ability = ability*scale\n",
    "    records.append(ability)\n",
    "    \n",
    "plt.plot(days, records)\n",
    "plt.title('Be better everyday!')"
   ]
  },
  {
   "cell_type": "code",
   "execution_count": null,
   "metadata": {},
   "outputs": [],
   "source": []
  },
  {
   "cell_type": "markdown",
   "metadata": {},
   "source": [
    "### Python是面向对象的编程语言\n",
    "\n",
    "| 类型   | 实例(对象)   | 实例(对象)   | 方法      |\n",
    "|:--- | :---- | :--- | :-----|\n",
    "| 猪  | 村东头老王家的猪  | 把猪把粮食变成肉 | ``猪.产肉``  |\n",
    "| 牛  | 村东头老张家的耕牛  | 把粮食变成畜力   | ``牛.耕地``   |\n",
    "| 列表 | ``hobbies = ['跑步',  '乒乓球'， '篮球'，'篮球']``|统计某群体爱好的分布, 查看各爱好的人数|``hobbies.count('篮球')``  |\n",
    "| 字符串| ``str1 = \"Hello，World!\"``| 将文本内容由World更改为Python | ``str1.replace('World', 'Python')``|\n",
    "| 字典 | ``grade = {'David':98, 'Mary':88,...}``| 方便数据检索| ``grade.get('David')`` |\n",
    "| ...  | ... | ... | ... |\n",
    "\n",
    "\n",
    "\n",
    "\n",
    "\n"
   ]
  },
  {
   "cell_type": "markdown",
   "metadata": {},
   "source": [
    "\n",
    "\n",
    "### Python中的数据类型\n",
    "\n",
    "| 数据类型 | 例子     |\n",
    "| :---|::--- |\n",
    "| 数字     | ``a = 5``                              |\n",
    "| 字符串   | ``my_str = \"abcdefg\"``                 |\n",
    "| 列表     | ``my_list = [1, 2, 3]``                |\n",
    "| 元组     | ``my_tuple = (1, 2, 3)``               |\n",
    "| 字典     | ``my_dict = {'David': 25, 'Mark':30}`` |\n",
    "| 空值     | ``None``                               |"
   ]
  },
  {
   "cell_type": "code",
   "execution_count": null,
   "metadata": {},
   "outputs": [],
   "source": []
  }
 ],
 "metadata": {
  "kernelspec": {
   "display_name": "Python 3",
   "language": "python",
   "name": "python3"
  },
  "language_info": {
   "codemirror_mode": {
    "name": "ipython",
    "version": 3
   },
   "file_extension": ".py",
   "mimetype": "text/x-python",
   "name": "python",
   "nbconvert_exporter": "python",
   "pygments_lexer": "ipython3",
   "version": "3.7.5"
  }
 },
 "nbformat": 4,
 "nbformat_minor": 4
}
